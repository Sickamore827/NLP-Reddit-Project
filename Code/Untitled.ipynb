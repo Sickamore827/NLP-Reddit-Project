{
 "cells": [
  {
   "cell_type": "code",
   "execution_count": 25,
   "id": "309f1e0e",
   "metadata": {},
   "outputs": [],
   "source": [
    "#!pip install praw\n",
    "import praw"
   ]
  },
  {
   "cell_type": "code",
   "execution_count": 26,
   "id": "e88e8638",
   "metadata": {},
   "outputs": [],
   "source": [
    "reddit = praw.Reddit(\n",
    "    client_id='rn3pJniAEOiNzoQoc0ptpA',\n",
    "    client_secret='7yY-gQrwtJqHeeMp_dETpoYwMZTFIA',\n",
    "    user_agent='sycamorecg0827',\n",
    "    username='sycamorecg',\n",
    "#     password='Tennis12!'\n",
    ")"
   ]
  },
  {
   "cell_type": "code",
   "execution_count": 32,
   "id": "bc926a4c",
   "metadata": {},
   "outputs": [],
   "source": [
    "# Below is JUST an example of how you can use PRAW\n",
    "\n",
    "# Choose your subreddit\n",
    "mildly = reddit.subreddit('mildlyinteresting')\n",
    "\n",
    "\n",
    "# Adjust the limit as needed -- Note that this will grab the 25 most recent posts\n",
    "posts = mildly.top(limit=10)"
   ]
  },
  {
   "cell_type": "code",
   "execution_count": 33,
   "id": "a60995cf",
   "metadata": {},
   "outputs": [],
   "source": [
    "import pandas as pd\n",
    "\n",
    "data = []\n",
    "def data_frame(posts):\n",
    "    for post in posts:\n",
    "        data.append([post.created_utc, post.title, post.selftext, post.subreddit])\n",
    "    \n",
    "    df = pd.DataFrame(data, columns = ['created_utc', 'title', 'self_text', 'subreddit'])\n",
    "    df['created_utc'] = pd.to_datetime(df['created_utc'], unit='s')\n",
    "    return df"
   ]
  },
  {
   "cell_type": "code",
   "execution_count": 34,
   "id": "324bc600",
   "metadata": {},
   "outputs": [],
   "source": [
    "top_10 = data_frame(posts)"
   ]
  },
  {
   "cell_type": "code",
   "execution_count": null,
   "id": "385753b2",
   "metadata": {},
   "outputs": [],
   "source": [
    "first_100 = data_frame(posts)"
   ]
  },
  {
   "cell_type": "code",
   "execution_count": null,
   "id": "7dd769d0",
   "metadata": {},
   "outputs": [],
   "source": [
    "second_100 = data_frame(posts)"
   ]
  },
  {
   "cell_type": "code",
   "execution_count": 38,
   "id": "a5220428",
   "metadata": {},
   "outputs": [
    {
     "data": {
      "text/html": [
       "<div>\n",
       "<style scoped>\n",
       "    .dataframe tbody tr th:only-of-type {\n",
       "        vertical-align: middle;\n",
       "    }\n",
       "\n",
       "    .dataframe tbody tr th {\n",
       "        vertical-align: top;\n",
       "    }\n",
       "\n",
       "    .dataframe thead th {\n",
       "        text-align: right;\n",
       "    }\n",
       "</style>\n",
       "<table border=\"1\" class=\"dataframe\">\n",
       "  <thead>\n",
       "    <tr style=\"text-align: right;\">\n",
       "      <th></th>\n",
       "      <th>created_utc</th>\n",
       "      <th>title</th>\n",
       "    </tr>\n",
       "  </thead>\n",
       "  <tbody>\n",
       "    <tr>\n",
       "      <th>0</th>\n",
       "      <td>2018-01-31 16:49:12</td>\n",
       "      <td>Local Mexican restaurant used to be a Chinese ...</td>\n",
       "    </tr>\n",
       "    <tr>\n",
       "      <th>1</th>\n",
       "      <td>2018-03-10 22:00:30</td>\n",
       "      <td>Found the cliff this Clif bar came from.</td>\n",
       "    </tr>\n",
       "    <tr>\n",
       "      <th>2</th>\n",
       "      <td>2020-04-14 17:28:54</td>\n",
       "      <td>I bought some suspiciously perfect bananas yes...</td>\n",
       "    </tr>\n",
       "    <tr>\n",
       "      <th>3</th>\n",
       "      <td>2021-06-27 11:09:47</td>\n",
       "      <td>My hotel phone in Iceland has a special button...</td>\n",
       "    </tr>\n",
       "    <tr>\n",
       "      <th>4</th>\n",
       "      <td>2019-07-12 16:41:46</td>\n",
       "      <td>I have a hereditary gap in my eyebrow</td>\n",
       "    </tr>\n",
       "    <tr>\n",
       "      <th>5</th>\n",
       "      <td>2018-11-19 20:36:43</td>\n",
       "      <td>The corrosion on this water tap looks like a map</td>\n",
       "    </tr>\n",
       "    <tr>\n",
       "      <th>6</th>\n",
       "      <td>2021-02-08 15:41:01</td>\n",
       "      <td>I got a warning for leaving my laptop unattend...</td>\n",
       "    </tr>\n",
       "    <tr>\n",
       "      <th>7</th>\n",
       "      <td>2019-08-12 22:48:18</td>\n",
       "      <td>i built a miniature audience out of ads I got ...</td>\n",
       "    </tr>\n",
       "    <tr>\n",
       "      <th>8</th>\n",
       "      <td>2020-12-13 21:24:23</td>\n",
       "      <td>I have partial heterochromia in both eyes</td>\n",
       "    </tr>\n",
       "    <tr>\n",
       "      <th>9</th>\n",
       "      <td>2019-07-17 23:26:08</td>\n",
       "      <td>My Uber driver offered a conversation “menu” f...</td>\n",
       "    </tr>\n",
       "  </tbody>\n",
       "</table>\n",
       "</div>"
      ],
      "text/plain": [
       "          created_utc                                              title\n",
       "0 2018-01-31 16:49:12  Local Mexican restaurant used to be a Chinese ...\n",
       "1 2018-03-10 22:00:30           Found the cliff this Clif bar came from.\n",
       "2 2020-04-14 17:28:54  I bought some suspiciously perfect bananas yes...\n",
       "3 2021-06-27 11:09:47  My hotel phone in Iceland has a special button...\n",
       "4 2019-07-12 16:41:46              I have a hereditary gap in my eyebrow\n",
       "5 2018-11-19 20:36:43   The corrosion on this water tap looks like a map\n",
       "6 2021-02-08 15:41:01  I got a warning for leaving my laptop unattend...\n",
       "7 2019-08-12 22:48:18  i built a miniature audience out of ads I got ...\n",
       "8 2020-12-13 21:24:23          I have partial heterochromia in both eyes\n",
       "9 2019-07-17 23:26:08  My Uber driver offered a conversation “menu” f..."
      ]
     },
     "execution_count": 38,
     "metadata": {},
     "output_type": "execute_result"
    }
   ],
   "source": [
    "top_10[['created_utc', 'title']]"
   ]
  },
  {
   "cell_type": "code",
   "execution_count": 41,
   "id": "4d8ead2e",
   "metadata": {},
   "outputs": [
    {
     "name": "stdout",
     "output_type": "stream",
     "text": [
      "Local Mexican restaurant used to be a Chinese restaurant. Instead of painting over a mural, they just put sombreros on the pandas.\n",
      "Found the cliff this Clif bar came from.\n",
      "I bought some suspiciously perfect bananas yesterday\n",
      "My hotel phone in Iceland has a special button that will wake you up if there are northern lights in the sky.\n",
      "I have a hereditary gap in my eyebrow\n",
      "The corrosion on this water tap looks like a map\n",
      "I got a warning for leaving my laptop unattended in the library\n",
      "i built a miniature audience out of ads I got in the mail\n",
      "I have partial heterochromia in both eyes\n",
      "My Uber driver offered a conversation “menu” for his ride\n"
     ]
    }
   ],
   "source": [
    "for posts in top_10['title']:\n",
    "    print(posts)"
   ]
  },
  {
   "cell_type": "code",
   "execution_count": 22,
   "id": "50d41a09",
   "metadata": {},
   "outputs": [
    {
     "data": {
      "text/html": [
       "<div>\n",
       "<style scoped>\n",
       "    .dataframe tbody tr th:only-of-type {\n",
       "        vertical-align: middle;\n",
       "    }\n",
       "\n",
       "    .dataframe tbody tr th {\n",
       "        vertical-align: top;\n",
       "    }\n",
       "\n",
       "    .dataframe thead th {\n",
       "        text-align: right;\n",
       "    }\n",
       "</style>\n",
       "<table border=\"1\" class=\"dataframe\">\n",
       "  <thead>\n",
       "    <tr style=\"text-align: right;\">\n",
       "      <th></th>\n",
       "      <th>created_utc</th>\n",
       "      <th>title</th>\n",
       "      <th>self_text</th>\n",
       "      <th>subreddit</th>\n",
       "    </tr>\n",
       "  </thead>\n",
       "  <tbody>\n",
       "    <tr>\n",
       "      <th>0</th>\n",
       "      <td>2024-07-09 17:29:17</td>\n",
       "      <td>At my work there’s an original sign from the 4...</td>\n",
       "      <td></td>\n",
       "      <td>mildlyinteresting</td>\n",
       "    </tr>\n",
       "    <tr>\n",
       "      <th>1</th>\n",
       "      <td>2024-07-09 17:28:09</td>\n",
       "      <td>My SO and I have been living and traveling in ...</td>\n",
       "      <td></td>\n",
       "      <td>mildlyinteresting</td>\n",
       "    </tr>\n",
       "    <tr>\n",
       "      <th>2</th>\n",
       "      <td>2024-07-09 17:16:11</td>\n",
       "      <td>I found an albino cicada!! The cicadas hit us ...</td>\n",
       "      <td></td>\n",
       "      <td>mildlyinteresting</td>\n",
       "    </tr>\n",
       "    <tr>\n",
       "      <th>3</th>\n",
       "      <td>2024-07-09 16:57:53</td>\n",
       "      <td>This picture on a pack of light bulbs. They ar...</td>\n",
       "      <td></td>\n",
       "      <td>mildlyinteresting</td>\n",
       "    </tr>\n",
       "    <tr>\n",
       "      <th>4</th>\n",
       "      <td>2024-07-09 16:41:24</td>\n",
       "      <td>12 oz. Coors cans are different dimensions tha...</td>\n",
       "      <td></td>\n",
       "      <td>mildlyinteresting</td>\n",
       "    </tr>\n",
       "    <tr>\n",
       "      <th>...</th>\n",
       "      <td>...</td>\n",
       "      <td>...</td>\n",
       "      <td>...</td>\n",
       "      <td>...</td>\n",
       "    </tr>\n",
       "    <tr>\n",
       "      <th>95</th>\n",
       "      <td>2024-07-08 21:50:36</td>\n",
       "      <td>This albino leopard slug I found in our garden...</td>\n",
       "      <td></td>\n",
       "      <td>mildlyinteresting</td>\n",
       "    </tr>\n",
       "    <tr>\n",
       "      <th>96</th>\n",
       "      <td>2024-07-08 21:50:08</td>\n",
       "      <td>The license plate on this animal control vehicle</td>\n",
       "      <td></td>\n",
       "      <td>mildlyinteresting</td>\n",
       "    </tr>\n",
       "    <tr>\n",
       "      <th>97</th>\n",
       "      <td>2024-07-08 21:29:38</td>\n",
       "      <td>Individual potatoes wrapped in plastic in Mich...</td>\n",
       "      <td></td>\n",
       "      <td>mildlyinteresting</td>\n",
       "    </tr>\n",
       "    <tr>\n",
       "      <th>98</th>\n",
       "      <td>2024-07-08 21:10:12</td>\n",
       "      <td>This bathroom with very little privacy for poo...</td>\n",
       "      <td></td>\n",
       "      <td>mildlyinteresting</td>\n",
       "    </tr>\n",
       "    <tr>\n",
       "      <th>99</th>\n",
       "      <td>2024-07-08 20:51:11</td>\n",
       "      <td>The prescription mouthwash I got from my ENT d...</td>\n",
       "      <td></td>\n",
       "      <td>mildlyinteresting</td>\n",
       "    </tr>\n",
       "  </tbody>\n",
       "</table>\n",
       "<p>100 rows × 4 columns</p>\n",
       "</div>"
      ],
      "text/plain": [
       "           created_utc                                              title  \\\n",
       "0  2024-07-09 17:29:17  At my work there’s an original sign from the 4...   \n",
       "1  2024-07-09 17:28:09  My SO and I have been living and traveling in ...   \n",
       "2  2024-07-09 17:16:11  I found an albino cicada!! The cicadas hit us ...   \n",
       "3  2024-07-09 16:57:53  This picture on a pack of light bulbs. They ar...   \n",
       "4  2024-07-09 16:41:24  12 oz. Coors cans are different dimensions tha...   \n",
       "..                 ...                                                ...   \n",
       "95 2024-07-08 21:50:36  This albino leopard slug I found in our garden...   \n",
       "96 2024-07-08 21:50:08   The license plate on this animal control vehicle   \n",
       "97 2024-07-08 21:29:38  Individual potatoes wrapped in plastic in Mich...   \n",
       "98 2024-07-08 21:10:12  This bathroom with very little privacy for poo...   \n",
       "99 2024-07-08 20:51:11  The prescription mouthwash I got from my ENT d...   \n",
       "\n",
       "   self_text          subreddit  \n",
       "0             mildlyinteresting  \n",
       "1             mildlyinteresting  \n",
       "2             mildlyinteresting  \n",
       "3             mildlyinteresting  \n",
       "4             mildlyinteresting  \n",
       "..       ...                ...  \n",
       "95            mildlyinteresting  \n",
       "96            mildlyinteresting  \n",
       "97            mildlyinteresting  \n",
       "98            mildlyinteresting  \n",
       "99            mildlyinteresting  \n",
       "\n",
       "[100 rows x 4 columns]"
      ]
     },
     "execution_count": 22,
     "metadata": {},
     "output_type": "execute_result"
    }
   ],
   "source": [
    "mildly_first_100"
   ]
  },
  {
   "cell_type": "code",
   "execution_count": null,
   "id": "23825b75",
   "metadata": {},
   "outputs": [],
   "source": [
    "mildly = mildly_first_100"
   ]
  },
  {
   "cell_type": "code",
   "execution_count": 23,
   "id": "678a1eac",
   "metadata": {},
   "outputs": [],
   "source": [
    "mildly_total = pd.concat([mildly, mildly_first_100])"
   ]
  },
  {
   "cell_type": "code",
   "execution_count": 9,
   "id": "091a290e",
   "metadata": {},
   "outputs": [
    {
     "data": {
      "text/plain": [
       "(983, 4)"
      ]
     },
     "execution_count": 9,
     "metadata": {},
     "output_type": "execute_result"
    }
   ],
   "source": [
    "mildly_first_100.shape"
   ]
  },
  {
   "cell_type": "code",
   "execution_count": 10,
   "id": "f6d6c45e",
   "metadata": {},
   "outputs": [],
   "source": [
    "mildly_first_100.to_csv('mildy_interesting.csv')"
   ]
  }
 ],
 "metadata": {
  "kernelspec": {
   "display_name": "Python 3 (ipykernel)",
   "language": "python",
   "name": "python3"
  },
  "language_info": {
   "codemirror_mode": {
    "name": "ipython",
    "version": 3
   },
   "file_extension": ".py",
   "mimetype": "text/x-python",
   "name": "python",
   "nbconvert_exporter": "python",
   "pygments_lexer": "ipython3",
   "version": "3.11.7"
  }
 },
 "nbformat": 4,
 "nbformat_minor": 5
}
